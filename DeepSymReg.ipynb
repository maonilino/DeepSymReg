{
 "cells": [
  {
   "cell_type": "code",
   "execution_count": 1,
   "metadata": {},
   "outputs": [
    {
     "name": "stdout",
     "output_type": "stream",
     "text": [
      "WARNING:tensorflow:From /home/nikola/.local/lib/python3.9/site-packages/tensorflow/python/compat/v2_compat.py:111: disable_resource_variables (from tensorflow.python.ops.variable_scope) is deprecated and will be removed in a future version.\n",
      "Instructions for updating:\n",
      "non-resource variables are not supported in the long term\n",
      "WARNING:tensorflow:From /home/nikola/.local/lib/python3.9/site-packages/tensorflow/python/training/rmsprop.py:192: calling Ones.__init__ (from tensorflow.python.ops.init_ops) with dtype is deprecated and will be removed in a future version.\n",
      "Instructions for updating:\n",
      "Call initializer instance with the dtype argument instead of passing it to the constructor\n"
     ]
    },
    {
     "name": "stderr",
     "output_type": "stream",
     "text": [
      "2022-12-13 22:42:28.651628: I tensorflow/stream_executor/cuda/cuda_gpu_executor.cc:925] could not open file to read NUMA node: /sys/bus/pci/devices/0000:01:00.0/numa_node\n",
      "Your kernel may have been built without NUMA support.\n",
      "2022-12-13 22:42:28.754081: W tensorflow/stream_executor/platform/default/dso_loader.cc:64] Could not load dynamic library 'libcudnn.so.8'; dlerror: libcudnn.so.8: cannot open shared object file: No such file or directory\n",
      "2022-12-13 22:42:28.754121: W tensorflow/core/common_runtime/gpu/gpu_device.cc:1850] Cannot dlopen some GPU libraries. Please make sure the missing libraries mentioned above are installed properly if you would like to use GPU. Follow the guide at https://www.tensorflow.org/install/gpu for how to download and setup the required libraries for your platform.\n",
      "Skipping registering GPU devices...\n",
      "2022-12-13 22:42:28.754920: I tensorflow/core/platform/cpu_feature_guard.cc:151] This TensorFlow binary is optimized with oneAPI Deep Neural Network Library (oneDNN) to use the following CPU instructions in performance-critical operations:  AVX2 FMA\n",
      "To enable them in other operations, rebuild TensorFlow with the appropriate compiler flags.\n"
     ]
    },
    {
     "name": "stdout",
     "output_type": "stream",
     "text": [
      "0.991842144634754*x**2 + 0.0804308\n"
     ]
    },
    {
     "name": "stderr",
     "output_type": "stream",
     "text": [
      "/home/nikola/Documents/Studies/Masters/Research/VEC_GEP/DeepSymRegEnv/DeepSymReg/utils/pretty_print.py:71: VisibleDeprecationWarning: Creating an ndarray from ragged nested sequences (which is a list-or-tuple of lists-or-tuples-or ndarrays with different lengths or shapes) is deprecated. If you meant to do this, you must specify 'dtype=object' when creating the ndarray.\n",
      "  W_list = np.asarray(W_list)\n"
     ]
    }
   ],
   "source": [
    "import numpy as np\n",
    "import tensorflow.compat.v1 as tf\n",
    "tf.disable_v2_behavior()\n",
    "from utils import functions, pretty_print\n",
    "from utils.symbolic_network import SymbolicNetL0\n",
    "from utils.regularization import l12_smooth\n",
    "\n",
    "funcs = functions.default_func\n",
    "x_dim = 1\n",
    "# Random data for a simple function\n",
    "x = np.random.rand(100, x_dim) * 2 - 1\n",
    "y = x ** 2\n",
    "\n",
    "# Set up TensorFlow graph for the EQL network\n",
    "x_placeholder = tf.placeholder(shape=(None, x_dim), dtype=tf.float32)\n",
    "sym = SymbolicNetL0(symbolic_depth=2, funcs=funcs, init_stddev=0.5)\n",
    "y_hat = sym(x_placeholder)\n",
    "\n",
    "# Set up loss function with L0.5 loss\n",
    "mse = tf.losses.mean_squared_error(labels=y, predictions=y_hat)\n",
    "loss = mse + 1e-2 * sym.get_loss()\n",
    "\n",
    "# Set up TensorFlow graph for training\n",
    "opt = tf.train.RMSPropOptimizer(learning_rate=1e-2)\n",
    "train = opt.minimize(loss)\n",
    "\n",
    "# Training\n",
    "with tf.Session() as sess:\n",
    "    sess.run(tf.global_variables_initializer())\n",
    "    for i in range(2000):\n",
    "        sess.run(train, feed_dict={x_placeholder: x})\n",
    "\n",
    "    # Print out the expression\n",
    "    weights = sess.run(sym.get_weights())\n",
    "    expr = pretty_print.network(weights, funcs, ['x'])\n",
    "    print(expr)\n"
   ]
  }
 ],
 "metadata": {
  "kernelspec": {
   "display_name": "Python 3",
   "language": "python",
   "name": "python3"
  },
  "language_info": {
   "codemirror_mode": {
    "name": "ipython",
    "version": 3
   },
   "file_extension": ".py",
   "mimetype": "text/x-python",
   "name": "python",
   "nbconvert_exporter": "python",
   "pygments_lexer": "ipython3",
   "version": "3.9.2"
  },
  "orig_nbformat": 4,
  "vscode": {
   "interpreter": {
    "hash": "31f2aee4e71d21fbe5cf8b01ff0e069b9275f58929596ceb00d14d90e3e16cd6"
   }
  }
 },
 "nbformat": 4,
 "nbformat_minor": 2
}
